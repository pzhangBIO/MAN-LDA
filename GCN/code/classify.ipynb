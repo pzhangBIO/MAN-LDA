{
 "cells": [
  {
   "cell_type": "code",
   "execution_count": 1,
   "metadata": {},
   "outputs": [],
   "source": [
    "import pandas as pd\n",
    "import numpy as np"
   ]
  },
  {
   "cell_type": "code",
   "execution_count": 2,
   "metadata": {},
   "outputs": [
    {
     "name": "stderr",
     "output_type": "stream",
     "text": [
      "/var/folders/37/2brzhtcs52160y_wjzcp3k_h0000gn/T/ipykernel_16168/2040278464.py:15: DeprecationWarning: Using or importing the ABCs from 'collections' instead of from 'collections.abc' is deprecated since Python 3.3, and in 3.10 it will stop working\n",
      "  from collections import Iterable\n"
     ]
    }
   ],
   "source": [
    "\n",
    "def auroc(prob,label):\n",
    "    y_true=label#.data.numpy().flatten()\n",
    "    y_scores=prob#.data.numpy().flatten()\n",
    "    fpr,tpr,thresholds=roc_curve(y_true,y_scores)\n",
    "    auroc_score=auc(fpr,tpr)\n",
    "    return auroc_score,fpr,tpr\n",
    "\n",
    "def auprc(prob,label):\n",
    "    y_true=label#.data.numpy().flatten()\n",
    "    y_scores=prob#.data.numpy().flatten()\n",
    "    precision,recall,thresholds=precision_recall_curve(y_true,y_scores)\n",
    "    auprc_score=auc(recall,precision)\n",
    "    return auprc_score,precision,recall\n",
    "\n",
    "from collections import Iterable\n",
    "\n",
    "\n",
    "def flatten(items, ignore_types=(str, bytes)):\n",
    "    for x in items:\n",
    "        if isinstance(x, Iterable) and not isinstance(x, ignore_types):\n",
    "            yield from flatten(x)\n",
    "        else:\n",
    "            yield x\n",
    "\n",
    "\n",
    "def prediction(predlabel, labels):\n",
    "    predlabel_s = []\n",
    "    labels_s = []\n",
    "    for x in flatten(predlabel):\n",
    "        predlabel_s.append(x)\n",
    "    for x in flatten(labels):\n",
    "        labels_s.append(x)\n",
    "\n",
    "    from sklearn.metrics import accuracy_score, precision_score, recall_score, f1_score\n",
    "    acc = accuracy_score(labels_s, predlabel_s)\n",
    "    precision = precision_score(labels_s, predlabel_s)\n",
    "    recall = recall_score(labels_s, predlabel_s)\n",
    "    f1 = f1_score(labels_s, predlabel_s)\n",
    "    return acc, precision, recall, f1\n"
   ]
  },
  {
   "cell_type": "code",
   "execution_count": null,
   "metadata": {},
   "outputs": [],
   "source": []
  },
  {
   "cell_type": "code",
   "execution_count": 3,
   "metadata": {},
   "outputs": [],
   "source": [
    "df=pd.read_csv('./hidden_emb.csv',header=None)"
   ]
  },
  {
   "cell_type": "code",
   "execution_count": 5,
   "metadata": {},
   "outputs": [],
   "source": [
    "positive=pd.read_csv('../data/num_edge.txt',sep=' ',header=None).iloc[:1264,:]\n"
   ]
  },
  {
   "cell_type": "code",
   "execution_count": 6,
   "metadata": {},
   "outputs": [],
   "source": [
    "a=list(zip(positive[0],positive[1]))"
   ]
  },
  {
   "cell_type": "code",
   "execution_count": 7,
   "metadata": {},
   "outputs": [],
   "source": [
    "def generate_negative(genes, diseases, pos_samples):\n",
    "    \"\"\" generate negative sample by random change one of a pairs\"\"\"\n",
    "    pairs = []\n",
    "    genes, diseases = list(genes), list(diseases)\n",
    "    '''\n",
    "    for ps in pos_samples:\n",
    "        for k in range(0, nega_weight):\n",
    "            index = random.randint(0, len(genes) - 1)\n",
    "            while True:\n",
    "                if (genes[index],ps[1]) not in all_pos_samples:\n",
    "                    break\n",
    "                index = random.randint(0, len(genes) - 1)\n",
    "            pairs.add((genes[index], ps[1]))\n",
    "    '''\n",
    "    for i in genes:\n",
    "        for j in diseases:\n",
    "            if (i,j) not in pos_samples:\n",
    "                pairs.append((i,j))\n",
    "    print(\"len(ne_pairs)\",len(pairs)) \n",
    "    return list(set(pairs))"
   ]
  },
  {
   "cell_type": "code",
   "execution_count": 8,
   "metadata": {},
   "outputs": [
    {
     "name": "stdout",
     "output_type": "stream",
     "text": [
      "len(ne_pairs) 100511\n"
     ]
    }
   ],
   "source": [
    "neg=generate_negative(set(positive[0]), set(positive[1]), a)"
   ]
  },
  {
   "cell_type": "markdown",
   "metadata": {},
   "source": []
  },
  {
   "cell_type": "markdown",
   "metadata": {},
   "source": []
  },
  {
   "cell_type": "code",
   "execution_count": 9,
   "metadata": {},
   "outputs": [],
   "source": [
    "\n",
    "def merge_samples(p_samples, n_samples):\n",
    "\n",
    "    pos_sample=[]\n",
    "    neg_sample=[]\n",
    "    for w in p_samples:\n",
    "        pos_sample.append(w)\n",
    "\n",
    "    for i in n_samples:\n",
    "        neg_sample.append(i)\n",
    "    import random\n",
    "    neg_sample=random.sample(neg_sample,len(pos_sample))\n",
    "    samples=pos_sample+neg_sample\n",
    "    print(len(pos_sample),len(neg_sample))\n",
    "\n",
    "    return samples\n"
   ]
  },
  {
   "cell_type": "code",
   "execution_count": 10,
   "metadata": {},
   "outputs": [
    {
     "name": "stdout",
     "output_type": "stream",
     "text": [
      "1264 1264\n"
     ]
    }
   ],
   "source": [
    "all_sample=merge_samples(a, neg)\n",
    "allsample=pd.DataFrame(all_sample)\n",
    "df=df.reset_index()\n",
    "m1=pd.merge(allsample,df,left_on=0,right_on='index',how='left')\n",
    "m2=pd.merge(m1,df,left_on='1_x',right_on='index',how='left')\n",
    "emb=m2.iloc[:,5:]\n",
    "emb['label']=1\n",
    "emb.loc[1265:,'label']=0"
   ]
  },
  {
   "cell_type": "code",
   "execution_count": 11,
   "metadata": {},
   "outputs": [],
   "source": [
    "def spe(Y_test,Y_pred,n):\n",
    "    \n",
    "    spe = []\n",
    "    con_mat = confusion_matrix(Y_test,Y_pred)\n",
    "    for i in range(n):\n",
    "        number = np.sum(con_mat[:,:])\n",
    "        tp = con_mat[i][i]\n",
    "        fn = np.sum(con_mat[i,:]) - tp\n",
    "        fp = np.sum(con_mat[:,i]) - tp\n",
    "        tn = number - tp - fn - fp\n",
    "        spe1 = tn / (tn + fp)\n",
    "        spe.append(spe1)\n",
    "    \n",
    "    return spe\n"
   ]
  },
  {
   "cell_type": "code",
   "execution_count": 12,
   "metadata": {
    "scrolled": true
   },
   "outputs": [
    {
     "name": "stdout",
     "output_type": "stream",
     "text": [
      "(2528, 256)\n",
      "[   0    1    2 ... 2525 2526 2527]\n",
      "(2022, 256)\n"
     ]
    },
    {
     "name": "stderr",
     "output_type": "stream",
     "text": [
      "/var/folders/37/2brzhtcs52160y_wjzcp3k_h0000gn/T/ipykernel_16168/4121847456.py:44: DataConversionWarning: A column-vector y was passed when a 1d array was expected. Please change the shape of y to (n_samples,), for example using ravel().\n",
      "  model.fit(X_train_folds, y_train_folds)\n"
     ]
    },
    {
     "name": "stdout",
     "output_type": "stream",
     "text": [
      "0.8614257370057337 0.8566965057133827 0.8063241106719368 0.7859778597785978 0.841897233201581 0.8129770992366413 0.6142046804569072\n",
      "[   0    3    4 ... 2522 2523 2524]\n",
      "(2022, 256)\n"
     ]
    },
    {
     "name": "stderr",
     "output_type": "stream",
     "text": [
      "/var/folders/37/2brzhtcs52160y_wjzcp3k_h0000gn/T/ipykernel_16168/4121847456.py:44: DataConversionWarning: A column-vector y was passed when a 1d array was expected. Please change the shape of y to (n_samples,), for example using ravel().\n",
      "  model.fit(X_train_folds, y_train_folds)\n"
     ]
    },
    {
     "name": "stdout",
     "output_type": "stream",
     "text": [
      "0.8875001952850381 0.8842695101214674 0.8003952569169961 0.7923076923076923 0.8142292490118577 0.8031189083820662 0.6010206037265402\n",
      "[   0    1    2 ... 2525 2526 2527]\n",
      "(2022, 256)\n"
     ]
    },
    {
     "name": "stderr",
     "output_type": "stream",
     "text": [
      "/var/folders/37/2brzhtcs52160y_wjzcp3k_h0000gn/T/ipykernel_16168/4121847456.py:44: DataConversionWarning: A column-vector y was passed when a 1d array was expected. Please change the shape of y to (n_samples,), for example using ravel().\n",
      "  model.fit(X_train_folds, y_train_folds)\n"
     ]
    },
    {
     "name": "stdout",
     "output_type": "stream",
     "text": [
      "0.8483572622599946 0.8544311123868455 0.7806324110671937 0.77734375 0.7865612648221344 0.781925343811395 0.5613042846798874\n",
      "[   0    1    2 ... 2525 2526 2527]\n",
      "(2023, 256)\n"
     ]
    },
    {
     "name": "stderr",
     "output_type": "stream",
     "text": [
      "/var/folders/37/2brzhtcs52160y_wjzcp3k_h0000gn/T/ipykernel_16168/4121847456.py:44: DataConversionWarning: A column-vector y was passed when a 1d array was expected. Please change the shape of y to (n_samples,), for example using ravel().\n",
      "  model.fit(X_train_folds, y_train_folds)\n"
     ]
    },
    {
     "name": "stdout",
     "output_type": "stream",
     "text": [
      "0.8497710019449151 0.8497807622382714 0.7821782178217822 0.7894736842105263 0.7707509881422925 0.78 0.5645346165949426\n",
      "[   1    2    5 ... 2525 2526 2527]\n",
      "(2023, 256)\n"
     ]
    },
    {
     "name": "stderr",
     "output_type": "stream",
     "text": [
      "/var/folders/37/2brzhtcs52160y_wjzcp3k_h0000gn/T/ipykernel_16168/4121847456.py:44: DataConversionWarning: A column-vector y was passed when a 1d array was expected. Please change the shape of y to (n_samples,), for example using ravel().\n",
      "  model.fit(X_train_folds, y_train_folds)\n"
     ]
    },
    {
     "name": "stdout",
     "output_type": "stream",
     "text": [
      "0.8632285588807328 0.8534723666878176 0.803960396039604 0.7938931297709924 0.8221343873517787 0.8077669902912621 0.6082781570969439\n"
     ]
    }
   ],
   "source": [
    "from sklearn.model_selection import StratifiedKFold\n",
    "from sklearn.ensemble import RandomForestClassifier\n",
    "from xgboost.sklearn import XGBClassifier\n",
    "from sklearn.metrics import precision_recall_curve,roc_curve,auc,balanced_accuracy_score,confusion_matrix\n",
    "import sklearn\n",
    "import sklearn.svm as svm\n",
    "from sklearn.linear_model import LogisticRegression\n",
    "from sklearn.naive_bayes import GaussianNB\n",
    "\n",
    "from sklearn.ensemble import AdaBoostClassifier\n",
    "aucs=[]\n",
    "auprs=[]\n",
    "accs=[]\n",
    "precs=[]\n",
    "res=[]\n",
    "f1s=[]\n",
    "\n",
    "fpr_s=[]\n",
    "tpr_s=[]\n",
    "precision_s=[]\n",
    "recall_s=[]\n",
    "spes=[]\n",
    "\n",
    "mccs=[]\n",
    "model = RandomForestClassifier()\n",
    "#model = XGBClassifier()  \n",
    "#model = svm.SVC(kernel='linear',probability=True)\n",
    "#model = LogisticRegression()\n",
    "\n",
    "#model=GaussianNB()\n",
    "#model=AdaBoostClassifier()\n",
    "# 对其中1折进行预测，对其他折进行训练\n",
    "skfolds = StratifiedKFold(n_splits=5, shuffle=True,random_state=24)\n",
    "X_train=emb.drop('label',axis=1).values\n",
    "print(X_train.shape)\n",
    "y_train_5=emb[['label']].values\n",
    "for train_index, test_index in skfolds.split(emb.drop('label',axis=1), emb[['label']]):\n",
    "    print(train_index)\n",
    "    X_train_folds = X_train[train_index]\n",
    "    y_train_folds = (y_train_5[train_index])\n",
    "    X_test_fold = X_train[test_index]\n",
    "    y_test_fold = (y_train_5[test_index])\n",
    "    print(X_train_folds.shape)\n",
    "    model.fit(X_train_folds, y_train_folds)\n",
    "\n",
    "#     import pickle \n",
    "\n",
    "#     #1.保存成Python支持的文件格式Pickle\n",
    "#     #在当前目录下可以看到new_app_model_v1.pickle\n",
    "#     with open('RF_model_v1.pickle','wb') as fw:\n",
    "#         pickle.dump(model,fw)\n",
    "\n",
    "\n",
    "\n",
    "    y_prob=model.predict_proba(X_test_fold)[:,1]\n",
    "    y_pred = model.predict(X_test_fold) \n",
    "\n",
    "    test_auc, fpr, tpr = auroc(y_prob, y_test_fold)\n",
    "    test_aupr, precision, recall = auprc(y_prob, y_test_fold)\n",
    "    acc, prec, re, f1 = prediction(y_pred, y_test_fold)   \n",
    "    mcc=sklearn.metrics.matthews_corrcoef(y_test_fold, y_pred)\n",
    "    c=spe(y_pred, y_test_fold,n=2)\n",
    "    aucs.append(test_auc)\n",
    "    auprs.append(test_aupr)\n",
    "    accs.append(acc)\n",
    "    precs.append(prec)\n",
    "    res.append(re)\n",
    "    f1s.append(f1)\n",
    "    mccs.append(mcc)\n",
    "    spes.append(c[1])\n",
    "    fpr_s.append(fpr)\n",
    "    tpr_s.append(tpr)\n",
    "    precision_s.append(precision)\n",
    "    recall_s.append(recall)\n",
    "\n",
    "    print(test_auc,test_aupr,acc, prec, re, f1,mcc)"
   ]
  },
  {
   "cell_type": "code",
   "execution_count": 14,
   "metadata": {
    "scrolled": false
   },
   "outputs": [
    {
     "data": {
      "text/plain": [
       "(0.8620565510752829,\n",
       " 0.859730051429557,\n",
       " 0.7946980785035025,\n",
       " 0.7877992232135618,\n",
       " 0.8071146245059289,\n",
       " 0.797157668344273)"
      ]
     },
     "execution_count": 14,
     "metadata": {},
     "output_type": "execute_result"
    }
   ],
   "source": [
    "np.average(aucs),np.average(auprs),np.average(accs),np.average(precs),np.average(res),np.average(f1s)"
   ]
  },
  {
   "cell_type": "code",
   "execution_count": null,
   "metadata": {},
   "outputs": [],
   "source": []
  },
  {
   "cell_type": "code",
   "execution_count": 49,
   "metadata": {},
   "outputs": [],
   "source": [
    "pd.DataFrame({'aucs':aucs,'auprs':auprs,'assc':accs,'prec':precs,'re':res,'f1':f1s,'mcc':mccs,'spec':spes}).to_csv('./XGB.csv',index=0)\n",
    "pd.DataFrame(fpr_s).to_csv('fprs_xgb.csv',index=0,header=0)\n",
    "pd.DataFrame(tpr_s).to_csv('tpr_xbg.csv',index=0,header=0)\n",
    "pd.DataFrame(precision_s).to_csv('precision_xgb.csv',index=0,header=0)\n",
    "pd.DataFrame(recall_s).to_csv('recall_xgb.csv',index=0,header=0)"
   ]
  },
  {
   "cell_type": "code",
   "execution_count": null,
   "metadata": {},
   "outputs": [],
   "source": []
  }
 ],
 "metadata": {
  "kernelspec": {
   "display_name": "Python 3 (ipykernel)",
   "language": "python",
   "name": "python3"
  },
  "language_info": {
   "codemirror_mode": {
    "name": "ipython",
    "version": 3
   },
   "file_extension": ".py",
   "mimetype": "text/x-python",
   "name": "python",
   "nbconvert_exporter": "python",
   "pygments_lexer": "ipython3",
   "version": "3.9.15"
  },
  "vscode": {
   "interpreter": {
    "hash": "0fa3dc3e6290d9c3ddb80acf8355d8b7784237d19d97bf24d9b1ba8fe238dcf3"
   }
  }
 },
 "nbformat": 4,
 "nbformat_minor": 2
}
